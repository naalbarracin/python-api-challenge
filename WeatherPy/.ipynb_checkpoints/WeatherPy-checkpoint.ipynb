{
 "cells": [
  {
   "cell_type": "markdown",
   "metadata": {},
   "source": [
    "# WeatherPy\n",
    "----\n",
    "\n",
    "#### Note\n",
    "* Instructions have been included for each segment. You do not have to follow them exactly, but they are included to help you think through the steps."
   ]
  },
  {
   "cell_type": "code",
   "execution_count": 1,
   "metadata": {
    "scrolled": true
   },
   "outputs": [],
   "source": [
    "# Dependencies and Setup\n",
    "import matplotlib.pyplot as plt\n",
    "import pandas as pd\n",
    "import numpy as np\n",
    "import requests\n",
    "import time\n",
    "from scipy.stats import linregress\n",
    "from scipy import stats\n",
    "\n",
    "# Import API key\n",
    "from api_keyss import weather_api_key\n",
    "\n",
    "# Incorporated citipy to determine city based on latitude and longitude\n",
    "from citipy import citipy\n",
    "\n",
    "# Output File (CSV)\n",
    "output_data_file = \"C:/Users/Morgan Gaming/Documents/Bootcamp/Python_API/WeatherPy/cities.csv\"\n",
    "\n",
    "# Range of latitudes and longitudes\n",
    "lat_range = (-90, 90)\n",
    "lng_range = (-180, 180)"
   ]
  },
  {
   "cell_type": "markdown",
   "metadata": {},
   "source": [
    "## Generate Cities List"
   ]
  },
  {
   "cell_type": "code",
   "execution_count": 2,
   "metadata": {},
   "outputs": [
    {
     "data": {
      "text/plain": [
       "597"
      ]
     },
     "execution_count": 2,
     "metadata": {},
     "output_type": "execute_result"
    }
   ],
   "source": [
    "# List for holding lat_lngs and cities\n",
    "lat_lngs = []\n",
    "cities = []\n",
    "\n",
    "# Create a set of random lat and lng combinations\n",
    "lats = np.random.uniform(lat_range[0], lat_range[1], size=1500)\n",
    "lngs = np.random.uniform(lng_range[0], lng_range[1], size=1500)\n",
    "lat_lngs = zip(lats, lngs)\n",
    "\n",
    "# Identify nearest city for each lat, lng combination\n",
    "for lat_lng in lat_lngs:\n",
    "    city = citipy.nearest_city(lat_lng[0], lat_lng[1]).city_name\n",
    "    \n",
    "    # If the city is unique, then add it to a our cities list\n",
    "    if city not in cities:\n",
    "        cities.append(city)\n",
    "\n",
    "# Print the city count to confirm sufficient count\n",
    "len(cities)"
   ]
  },
  {
   "cell_type": "markdown",
   "metadata": {},
   "source": [
    "### Perform API Calls\n",
    "* Perform a weather check on each city using a series of successive API calls.\n",
    "* Include a print log of each city as it'sbeing processed (with the city number and city name).\n",
    "\n"
   ]
  },
  {
   "cell_type": "code",
   "execution_count": 3,
   "metadata": {
    "scrolled": false
   },
   "outputs": [
    {
     "name": "stdout",
     "output_type": "stream",
     "text": [
      "Beginning Data Retrieval\n",
      "-----------------------------\n",
      "Processing Record 1 of 597\n",
      "Processing Record 2 of 597\n",
      "Processing Record 3 of 597\n",
      "Processing Record 4 of 597\n",
      "Processing Record 5 of 597\n",
      "Processing Record 6 of 597\n",
      "Processing Record 7 of 597\n",
      "Processing Record 8 of 597\n",
      "Processing Record 9 of 597\n",
      "Processing Record 10 of 597\n",
      "Processing Record 11 of 597\n",
      "Processing Record 12 of 597\n",
      "Processing Record 13 of 597\n",
      "Processing Record 14 of 597\n",
      "Processing Record 15 of 597\n",
      "Processing Record 16 of 597\n",
      "Processing Record 17 of 597\n",
      "Processing Record 18 of 597\n",
      "Processing Record 19 of 597\n",
      "Processing Record 20 of 597\n",
      "Processing Record 21 of 597\n",
      "Processing Record 22 of 597\n",
      "Processing Record 23 of 597\n",
      "Processing Record 24 of 597\n",
      "Processing Record 25 of 597\n",
      "Processing Record 26 of 597\n",
      "Processing Record 27 of 597\n",
      "Processing Record 28 of 597\n",
      "Processing Record 29 of 597\n",
      "Processing Record 30 of 597\n",
      "Processing Record 31 of 597\n",
      "Processing Record 32 of 597\n",
      "Processing Record 33 of 597\n",
      "Processing Record 34 of 597\n",
      "Processing Record 35 of 597\n",
      "Processing Record 36 of 597\n",
      "Processing Record 37 of 597\n",
      "Processing Record 38 of 597\n",
      "Processing Record 39 of 597\n",
      "Processing Record 40 of 597\n",
      "Processing Record 41 of 597\n",
      "Processing Record 42 of 597\n",
      "Processing Record 43 of 597\n",
      "Processing Record 44 of 597\n",
      "Processing Record 45 of 597\n",
      "Processing Record 46 of 597\n",
      "Processing Record 47 of 597\n",
      "Processing Record 48 of 597\n",
      "Processing Record 49 of 597\n",
      "Processing Record 50 of 597\n",
      "Processing Record 51 of 597\n",
      "Processing Record 52 of 597\n",
      "Processing Record 53 of 597\n",
      "Processing Record 54 of 597\n",
      "Processing Record 55 of 597\n",
      "Processing Record 56 of 597\n",
      "Processing Record 57 of 597\n",
      "Processing Record 58 of 597\n",
      "Processing Record 59 of 597\n",
      "Processing Record 60 of 597\n",
      "Processing Record 61 of 597\n",
      "Processing Record 62 of 597\n",
      "Processing Record 63 of 597\n",
      "Processing Record 64 of 597\n",
      "Processing Record 65 of 597\n",
      "Processing Record 66 of 597\n",
      "Processing Record 67 of 597\n",
      "Processing Record 68 of 597\n",
      "Processing Record 69 of 597\n",
      "Processing Record 70 of 597\n",
      "Processing Record 71 of 597\n",
      "Processing Record 72 of 597\n",
      "Processing Record 73 of 597\n",
      "Processing Record 74 of 597\n",
      "Processing Record 75 of 597\n",
      "Processing Record 76 of 597\n",
      "Processing Record 77 of 597\n",
      "Processing Record 78 of 597\n",
      "Processing Record 79 of 597\n",
      "Processing Record 80 of 597\n",
      "Processing Record 81 of 597\n",
      "Processing Record 82 of 597\n",
      "Processing Record 83 of 597\n",
      "Processing Record 84 of 597\n",
      "Processing Record 85 of 597\n",
      "Processing Record 86 of 597\n",
      "Processing Record 87 of 597\n",
      "Processing Record 88 of 597\n",
      "Processing Record 89 of 597\n",
      "Processing Record 90 of 597\n",
      "Processing Record 91 of 597\n",
      "Processing Record 92 of 597\n",
      "Processing Record 93 of 597\n",
      "Processing Record 94 of 597\n",
      "Processing Record 95 of 597\n",
      "Processing Record 96 of 597\n",
      "Processing Record 97 of 597\n",
      "Processing Record 98 of 597\n",
      "Processing Record 99 of 597\n",
      "Processing Record 100 of 597\n",
      "Processing Record 101 of 597\n",
      "Processing Record 102 of 597\n",
      "Processing Record 103 of 597\n",
      "Processing Record 104 of 597\n",
      "Processing Record 105 of 597\n",
      "Processing Record 106 of 597\n",
      "Processing Record 107 of 597\n",
      "Processing Record 108 of 597\n",
      "Processing Record 109 of 597\n",
      "Processing Record 110 of 597\n",
      "Processing Record 111 of 597\n",
      "Processing Record 112 of 597\n",
      "Processing Record 113 of 597\n",
      "Processing Record 114 of 597\n",
      "Processing Record 115 of 597\n",
      "Processing Record 116 of 597\n",
      "Processing Record 117 of 597\n",
      "Processing Record 118 of 597\n",
      "Processing Record 119 of 597\n",
      "Processing Record 120 of 597\n",
      "Processing Record 121 of 597\n",
      "Processing Record 122 of 597\n",
      "Processing Record 123 of 597\n",
      "Processing Record 124 of 597\n",
      "Processing Record 125 of 597\n",
      "Processing Record 126 of 597\n",
      "Processing Record 127 of 597\n",
      "Processing Record 128 of 597\n",
      "Processing Record 129 of 597\n",
      "Processing Record 130 of 597\n",
      "Processing Record 131 of 597\n",
      "Processing Record 132 of 597\n",
      "Processing Record 133 of 597\n",
      "Processing Record 134 of 597\n",
      "Processing Record 135 of 597\n",
      "Processing Record 136 of 597\n",
      "Processing Record 137 of 597\n",
      "Processing Record 138 of 597\n",
      "Processing Record 139 of 597\n",
      "Processing Record 140 of 597\n",
      "Processing Record 141 of 597\n",
      "Processing Record 142 of 597\n",
      "Processing Record 143 of 597\n",
      "Processing Record 144 of 597\n",
      "Processing Record 145 of 597\n",
      "Processing Record 146 of 597\n",
      "Processing Record 147 of 597\n",
      "Processing Record 148 of 597\n",
      "Processing Record 149 of 597\n",
      "Processing Record 150 of 597\n",
      "Processing Record 151 of 597\n",
      "Processing Record 152 of 597\n",
      "Processing Record 153 of 597\n",
      "Processing Record 154 of 597\n",
      "Processing Record 155 of 597\n",
      "Processing Record 156 of 597\n",
      "Processing Record 157 of 597\n",
      "Processing Record 158 of 597\n",
      "Processing Record 159 of 597\n",
      "Processing Record 160 of 597\n",
      "Processing Record 161 of 597\n",
      "Processing Record 162 of 597\n",
      "Processing Record 163 of 597\n",
      "Processing Record 164 of 597\n",
      "Processing Record 165 of 597\n",
      "Processing Record 166 of 597\n",
      "Processing Record 167 of 597\n",
      "Processing Record 168 of 597\n",
      "Processing Record 169 of 597\n",
      "Processing Record 170 of 597\n",
      "Processing Record 171 of 597\n",
      "Processing Record 172 of 597\n",
      "Processing Record 173 of 597\n",
      "Processing Record 174 of 597\n",
      "Processing Record 175 of 597\n",
      "Processing Record 176 of 597\n",
      "Processing Record 177 of 597\n",
      "Processing Record 178 of 597\n",
      "Processing Record 179 of 597\n",
      "Processing Record 180 of 597\n",
      "Processing Record 181 of 597\n",
      "Processing Record 182 of 597\n",
      "Processing Record 183 of 597\n",
      "Processing Record 184 of 597\n",
      "Processing Record 185 of 597\n",
      "Processing Record 186 of 597\n",
      "Processing Record 187 of 597\n",
      "Processing Record 188 of 597\n",
      "Processing Record 189 of 597\n",
      "Processing Record 190 of 597\n",
      "Processing Record 191 of 597\n",
      "Processing Record 192 of 597\n",
      "Processing Record 193 of 597\n",
      "Processing Record 194 of 597\n",
      "Processing Record 195 of 597\n",
      "Processing Record 196 of 597\n",
      "Processing Record 197 of 597\n",
      "Processing Record 198 of 597\n",
      "Processing Record 199 of 597\n",
      "Processing Record 200 of 597\n",
      "Processing Record 201 of 597\n",
      "Processing Record 202 of 597\n",
      "Processing Record 203 of 597\n",
      "Processing Record 204 of 597\n",
      "Processing Record 205 of 597\n",
      "Processing Record 206 of 597\n",
      "Processing Record 207 of 597\n",
      "Processing Record 208 of 597\n",
      "Processing Record 209 of 597\n",
      "Processing Record 210 of 597\n",
      "Processing Record 211 of 597\n",
      "Processing Record 212 of 597\n",
      "Processing Record 213 of 597\n",
      "Processing Record 214 of 597\n",
      "Processing Record 215 of 597\n",
      "Processing Record 216 of 597\n",
      "Processing Record 217 of 597\n",
      "Processing Record 218 of 597\n",
      "Processing Record 219 of 597\n",
      "Processing Record 220 of 597\n",
      "Processing Record 221 of 597\n",
      "Processing Record 222 of 597\n",
      "Processing Record 223 of 597\n",
      "Processing Record 224 of 597\n",
      "Processing Record 225 of 597\n",
      "Processing Record 226 of 597\n",
      "Processing Record 227 of 597\n",
      "Processing Record 228 of 597\n",
      "Processing Record 229 of 597\n",
      "Processing Record 230 of 597\n",
      "Processing Record 231 of 597\n",
      "Processing Record 232 of 597\n",
      "Processing Record 233 of 597\n",
      "Processing Record 234 of 597\n",
      "Processing Record 235 of 597\n",
      "Processing Record 236 of 597\n",
      "Processing Record 237 of 597\n",
      "Processing Record 238 of 597\n",
      "Processing Record 239 of 597\n",
      "Processing Record 240 of 597\n",
      "Processing Record 241 of 597\n",
      "Processing Record 242 of 597\n",
      "Processing Record 243 of 597\n",
      "Processing Record 244 of 597\n",
      "Processing Record 245 of 597\n",
      "Processing Record 246 of 597\n",
      "Processing Record 247 of 597\n",
      "Processing Record 248 of 597\n",
      "Processing Record 249 of 597\n",
      "Processing Record 250 of 597\n",
      "Processing Record 251 of 597\n",
      "Processing Record 252 of 597\n",
      "Processing Record 253 of 597\n",
      "Processing Record 254 of 597\n",
      "Processing Record 255 of 597\n",
      "Processing Record 256 of 597\n",
      "Processing Record 257 of 597\n",
      "Processing Record 258 of 597\n",
      "Processing Record 259 of 597\n",
      "Processing Record 260 of 597\n",
      "Processing Record 261 of 597\n",
      "Processing Record 262 of 597\n",
      "Processing Record 263 of 597\n",
      "Processing Record 264 of 597\n",
      "Processing Record 265 of 597\n",
      "Processing Record 266 of 597\n",
      "Processing Record 267 of 597\n",
      "Processing Record 268 of 597\n",
      "Processing Record 269 of 597\n",
      "Processing Record 270 of 597\n",
      "Processing Record 271 of 597\n",
      "Processing Record 272 of 597\n",
      "Processing Record 273 of 597\n",
      "Processing Record 274 of 597\n",
      "Processing Record 275 of 597\n",
      "Processing Record 276 of 597\n",
      "Processing Record 277 of 597\n",
      "Processing Record 278 of 597\n",
      "Processing Record 279 of 597\n",
      "Processing Record 280 of 597\n",
      "Processing Record 281 of 597\n",
      "Processing Record 282 of 597\n",
      "Processing Record 283 of 597\n",
      "Processing Record 284 of 597\n",
      "Processing Record 285 of 597\n",
      "Processing Record 286 of 597\n"
     ]
    },
    {
     "name": "stdout",
     "output_type": "stream",
     "text": [
      "Processing Record 287 of 597\n",
      "Processing Record 288 of 597\n",
      "Processing Record 289 of 597\n",
      "Processing Record 290 of 597\n",
      "Processing Record 291 of 597\n",
      "Processing Record 292 of 597\n",
      "Processing Record 293 of 597\n",
      "Processing Record 294 of 597\n",
      "Processing Record 295 of 597\n",
      "Processing Record 296 of 597\n",
      "Processing Record 297 of 597\n",
      "Processing Record 298 of 597\n",
      "Processing Record 299 of 597\n",
      "Processing Record 300 of 597\n",
      "Processing Record 301 of 597\n",
      "Processing Record 302 of 597\n",
      "Processing Record 303 of 597\n",
      "Processing Record 304 of 597\n",
      "Processing Record 305 of 597\n",
      "Processing Record 306 of 597\n",
      "Processing Record 307 of 597\n",
      "Processing Record 308 of 597\n",
      "Processing Record 309 of 597\n",
      "Processing Record 310 of 597\n",
      "Processing Record 311 of 597\n",
      "Processing Record 312 of 597\n",
      "Processing Record 313 of 597\n",
      "Processing Record 314 of 597\n",
      "Processing Record 315 of 597\n",
      "Processing Record 316 of 597\n",
      "Processing Record 317 of 597\n",
      "Processing Record 318 of 597\n",
      "Processing Record 319 of 597\n",
      "Processing Record 320 of 597\n",
      "Processing Record 321 of 597\n",
      "Processing Record 322 of 597\n",
      "Processing Record 323 of 597\n",
      "Processing Record 324 of 597\n",
      "Processing Record 325 of 597\n",
      "Processing Record 326 of 597\n",
      "Processing Record 327 of 597\n",
      "Processing Record 328 of 597\n",
      "Processing Record 329 of 597\n",
      "Processing Record 330 of 597\n",
      "Processing Record 331 of 597\n",
      "Processing Record 332 of 597\n",
      "Processing Record 333 of 597\n",
      "Processing Record 334 of 597\n",
      "Processing Record 335 of 597\n",
      "Processing Record 336 of 597\n",
      "Processing Record 337 of 597\n",
      "Processing Record 338 of 597\n",
      "Processing Record 339 of 597\n",
      "Processing Record 340 of 597\n",
      "Processing Record 341 of 597\n",
      "Processing Record 342 of 597\n",
      "Processing Record 343 of 597\n",
      "Processing Record 344 of 597\n",
      "Processing Record 345 of 597\n",
      "Processing Record 346 of 597\n",
      "Processing Record 347 of 597\n",
      "Processing Record 348 of 597\n",
      "Processing Record 349 of 597\n",
      "Processing Record 350 of 597\n",
      "Processing Record 351 of 597\n",
      "Processing Record 352 of 597\n",
      "Processing Record 353 of 597\n",
      "Processing Record 354 of 597\n",
      "Processing Record 355 of 597\n",
      "Processing Record 356 of 597\n",
      "Processing Record 357 of 597\n",
      "Processing Record 358 of 597\n",
      "Processing Record 359 of 597\n",
      "Processing Record 360 of 597\n",
      "Processing Record 361 of 597\n",
      "Processing Record 362 of 597\n",
      "Processing Record 363 of 597\n",
      "Processing Record 364 of 597\n",
      "Processing Record 365 of 597\n",
      "Processing Record 366 of 597\n",
      "Processing Record 367 of 597\n",
      "Processing Record 368 of 597\n",
      "Processing Record 369 of 597\n",
      "Processing Record 370 of 597\n",
      "Processing Record 371 of 597\n",
      "Processing Record 372 of 597\n",
      "Processing Record 373 of 597\n",
      "Processing Record 374 of 597\n",
      "Processing Record 375 of 597\n",
      "Processing Record 376 of 597\n",
      "Processing Record 377 of 597\n",
      "Processing Record 378 of 597\n",
      "Processing Record 379 of 597\n",
      "Processing Record 380 of 597\n",
      "Processing Record 381 of 597\n",
      "Processing Record 382 of 597\n",
      "Processing Record 383 of 597\n",
      "Processing Record 384 of 597\n",
      "Processing Record 385 of 597\n",
      "Processing Record 386 of 597\n",
      "Processing Record 387 of 597\n",
      "Processing Record 388 of 597\n",
      "Processing Record 389 of 597\n",
      "Processing Record 390 of 597\n",
      "Processing Record 391 of 597\n",
      "Processing Record 392 of 597\n",
      "Processing Record 393 of 597\n",
      "Processing Record 394 of 597\n",
      "Processing Record 395 of 597\n",
      "Processing Record 396 of 597\n",
      "Processing Record 397 of 597\n",
      "Processing Record 398 of 597\n",
      "Processing Record 399 of 597\n",
      "Processing Record 400 of 597\n",
      "Processing Record 401 of 597\n",
      "Processing Record 402 of 597\n",
      "Processing Record 403 of 597\n",
      "Processing Record 404 of 597\n",
      "Processing Record 405 of 597\n",
      "Processing Record 406 of 597\n",
      "Processing Record 407 of 597\n",
      "Processing Record 408 of 597\n",
      "Processing Record 409 of 597\n",
      "Processing Record 410 of 597\n",
      "Processing Record 411 of 597\n",
      "Processing Record 412 of 597\n",
      "Processing Record 413 of 597\n",
      "Processing Record 414 of 597\n",
      "Processing Record 415 of 597\n",
      "Processing Record 416 of 597\n",
      "Processing Record 417 of 597\n",
      "Processing Record 418 of 597\n",
      "Processing Record 419 of 597\n",
      "Processing Record 420 of 597\n",
      "Processing Record 421 of 597\n",
      "Processing Record 422 of 597\n",
      "Processing Record 423 of 597\n",
      "Processing Record 424 of 597\n",
      "Processing Record 425 of 597\n",
      "Processing Record 426 of 597\n",
      "Processing Record 427 of 597\n",
      "Processing Record 428 of 597\n",
      "Processing Record 429 of 597\n",
      "Processing Record 430 of 597\n",
      "Processing Record 431 of 597\n",
      "Processing Record 432 of 597\n",
      "Processing Record 433 of 597\n",
      "Processing Record 434 of 597\n",
      "Processing Record 435 of 597\n",
      "Processing Record 436 of 597\n",
      "Processing Record 437 of 597\n",
      "Processing Record 438 of 597\n",
      "Processing Record 439 of 597\n",
      "Processing Record 440 of 597\n",
      "Processing Record 441 of 597\n",
      "Processing Record 442 of 597\n",
      "Processing Record 443 of 597\n",
      "Processing Record 444 of 597\n",
      "Processing Record 445 of 597\n",
      "Processing Record 446 of 597\n",
      "Processing Record 447 of 597\n",
      "Processing Record 448 of 597\n",
      "Processing Record 449 of 597\n",
      "Processing Record 450 of 597\n",
      "Processing Record 451 of 597\n",
      "Processing Record 452 of 597\n",
      "Processing Record 453 of 597\n",
      "Processing Record 454 of 597\n",
      "Processing Record 455 of 597\n",
      "Processing Record 456 of 597\n",
      "Processing Record 457 of 597\n",
      "Processing Record 458 of 597\n",
      "Processing Record 459 of 597\n",
      "Processing Record 460 of 597\n",
      "Processing Record 461 of 597\n",
      "Processing Record 462 of 597\n",
      "Processing Record 463 of 597\n",
      "Processing Record 464 of 597\n",
      "Processing Record 465 of 597\n",
      "Processing Record 466 of 597\n",
      "Processing Record 467 of 597\n",
      "Processing Record 468 of 597\n",
      "Processing Record 469 of 597\n",
      "Processing Record 470 of 597\n",
      "Processing Record 471 of 597\n",
      "Processing Record 472 of 597\n",
      "Processing Record 473 of 597\n",
      "Processing Record 474 of 597\n",
      "Processing Record 475 of 597\n",
      "Processing Record 476 of 597\n",
      "Processing Record 477 of 597\n",
      "Processing Record 478 of 597\n",
      "Processing Record 479 of 597\n",
      "Processing Record 480 of 597\n",
      "Processing Record 481 of 597\n",
      "Processing Record 482 of 597\n",
      "Processing Record 483 of 597\n",
      "Processing Record 484 of 597\n",
      "Processing Record 485 of 597\n",
      "Processing Record 486 of 597\n",
      "Processing Record 487 of 597\n",
      "Processing Record 488 of 597\n",
      "Processing Record 489 of 597\n",
      "Processing Record 490 of 597\n",
      "Processing Record 491 of 597\n",
      "Processing Record 492 of 597\n",
      "Processing Record 493 of 597\n",
      "Processing Record 494 of 597\n",
      "Processing Record 495 of 597\n",
      "Processing Record 496 of 597\n",
      "Processing Record 497 of 597\n",
      "Processing Record 498 of 597\n",
      "Processing Record 499 of 597\n",
      "Processing Record 500 of 597\n",
      "Processing Record 501 of 597\n",
      "Processing Record 502 of 597\n",
      "Processing Record 503 of 597\n",
      "Processing Record 504 of 597\n",
      "Processing Record 505 of 597\n",
      "Processing Record 506 of 597\n",
      "Processing Record 507 of 597\n",
      "Processing Record 508 of 597\n",
      "Processing Record 509 of 597\n",
      "Processing Record 510 of 597\n",
      "Processing Record 511 of 597\n",
      "Processing Record 512 of 597\n",
      "Processing Record 513 of 597\n",
      "Processing Record 514 of 597\n",
      "Processing Record 515 of 597\n",
      "Processing Record 516 of 597\n",
      "Processing Record 517 of 597\n",
      "Processing Record 518 of 597\n",
      "Processing Record 519 of 597\n",
      "Processing Record 520 of 597\n",
      "Processing Record 521 of 597\n",
      "Processing Record 522 of 597\n",
      "Processing Record 523 of 597\n",
      "Processing Record 524 of 597\n",
      "Processing Record 525 of 597\n",
      "Processing Record 526 of 597\n",
      "Processing Record 527 of 597\n",
      "Processing Record 528 of 597\n",
      "Processing Record 529 of 597\n",
      "Processing Record 530 of 597\n",
      "Processing Record 531 of 597\n",
      "Processing Record 532 of 597\n",
      "Processing Record 533 of 597\n",
      "Processing Record 534 of 597\n",
      "Processing Record 535 of 597\n",
      "Processing Record 536 of 597\n",
      "Processing Record 537 of 597\n",
      "Processing Record 538 of 597\n",
      "Processing Record 539 of 597\n",
      "Processing Record 540 of 597\n",
      "Processing Record 541 of 597\n",
      "Processing Record 542 of 597\n",
      "Processing Record 543 of 597\n",
      "Processing Record 544 of 597\n",
      "Processing Record 545 of 597\n",
      "Processing Record 546 of 597\n",
      "Processing Record 547 of 597\n",
      "Processing Record 548 of 597\n",
      "Processing Record 549 of 597\n",
      "Processing Record 550 of 597\n",
      "Processing Record 551 of 597\n",
      "Processing Record 552 of 597\n",
      "Processing Record 553 of 597\n",
      "Processing Record 554 of 597\n",
      "Processing Record 555 of 597\n",
      "Processing Record 556 of 597\n",
      "Processing Record 557 of 597\n",
      "Processing Record 558 of 597\n",
      "Processing Record 559 of 597\n",
      "Processing Record 560 of 597\n",
      "Processing Record 561 of 597\n",
      "Processing Record 562 of 597\n",
      "Processing Record 563 of 597\n",
      "Processing Record 564 of 597\n",
      "Processing Record 565 of 597\n",
      "Processing Record 566 of 597\n",
      "Processing Record 567 of 597\n",
      "Processing Record 568 of 597\n",
      "Processing Record 569 of 597\n"
     ]
    },
    {
     "name": "stdout",
     "output_type": "stream",
     "text": [
      "Processing Record 570 of 597\n",
      "Processing Record 571 of 597\n",
      "Processing Record 572 of 597\n",
      "Processing Record 573 of 597\n",
      "Processing Record 574 of 597\n",
      "Processing Record 575 of 597\n",
      "Processing Record 576 of 597\n",
      "Processing Record 577 of 597\n",
      "Processing Record 578 of 597\n",
      "Processing Record 579 of 597\n",
      "Processing Record 580 of 597\n",
      "Processing Record 581 of 597\n",
      "Processing Record 582 of 597\n",
      "Processing Record 583 of 597\n",
      "Processing Record 584 of 597\n",
      "Processing Record 585 of 597\n",
      "Processing Record 586 of 597\n",
      "Processing Record 587 of 597\n",
      "Processing Record 588 of 597\n",
      "Processing Record 589 of 597\n",
      "Processing Record 590 of 597\n",
      "Processing Record 591 of 597\n",
      "Processing Record 592 of 597\n",
      "Processing Record 593 of 597\n",
      "Processing Record 594 of 597\n",
      "Processing Record 595 of 597\n",
      "Processing Record 596 of 597\n",
      "Processing Record 597 of 597\n"
     ]
    }
   ],
   "source": [
    "Count=1\n",
    "City_Total=len(cities)\n",
    "weatherAPI= 'http://api.openweathermap.org/data/2.5/weather?appid='+weather_api_key\n",
    "print('Beginning Data Retrieval')     \n",
    "print('-----------------------------')\n",
    "for city in cities:\n",
    "    print('Processing Record '+ str(Count) +' of '+ str(City_Total))\n",
    "    response = requests.get(weatherAPI+ '&q=' + city)\n",
    "    #print((weatherAPI+ '&q=' + city))\n",
    "    data = response.json()\n",
    "    try:\n",
    "        if (Count==1):\n",
    "            result = pd.json_normalize(data)\n",
    "        else:\n",
    "            city_data = pd.json_normalize(data) \n",
    "             = result.append(city_data, ignore_index = True) \n",
    "\n",
    "    except:\n",
    "        print(\"Error\")\n",
    "        pass\n",
    "    Count+=1\n"
   ]
  },
  {
   "cell_type": "code",
   "execution_count": 51,
   "metadata": {},
   "outputs": [],
   "source": [
    "output = result[['name', 'coord.lat','coord.lon','main.temp_max','main.humidity','clouds.all','wind.speed','sys.country','dt']]\n",
    "\n",
    "\n",
    "#np.savetxt(output_data_file, output, delimiter=\",\",fmt='%s')\n",
    "\n",
    "output.to_csv(output_data_file)\n"
   ]
  },
  {
   "cell_type": "markdown",
   "metadata": {},
   "source": [
    "### Convert Raw Data to DataFrame\n",
    "* Export the city data into a .csv.\n",
    "* Display the DataFrame"
   ]
  },
  {
   "cell_type": "code",
   "execution_count": 4,
   "metadata": {},
   "outputs": [
    {
     "data": {
      "text/html": [
       "<div>\n",
       "<style scoped>\n",
       "    .dataframe tbody tr th:only-of-type {\n",
       "        vertical-align: middle;\n",
       "    }\n",
       "\n",
       "    .dataframe tbody tr th {\n",
       "        vertical-align: top;\n",
       "    }\n",
       "\n",
       "    .dataframe thead th {\n",
       "        text-align: right;\n",
       "    }\n",
       "</style>\n",
       "<table border=\"1\" class=\"dataframe\">\n",
       "  <thead>\n",
       "    <tr style=\"text-align: right;\">\n",
       "      <th></th>\n",
       "      <th>name</th>\n",
       "      <th>coord.lat</th>\n",
       "      <th>coord.lon</th>\n",
       "      <th>main.temp_max</th>\n",
       "      <th>main.humidity</th>\n",
       "      <th>clouds.all</th>\n",
       "      <th>wind.speed</th>\n",
       "      <th>sys.country</th>\n",
       "      <th>dt</th>\n",
       "    </tr>\n",
       "  </thead>\n",
       "  <tbody>\n",
       "    <tr>\n",
       "      <th>0</th>\n",
       "      <td>Praia da Vitória</td>\n",
       "      <td>38.7333</td>\n",
       "      <td>-27.0667</td>\n",
       "      <td>289.82</td>\n",
       "      <td>82.0</td>\n",
       "      <td>20.0</td>\n",
       "      <td>4.22</td>\n",
       "      <td>PT</td>\n",
       "      <td>1.611185e+09</td>\n",
       "    </tr>\n",
       "    <tr>\n",
       "      <th>1</th>\n",
       "      <td>Rikitea</td>\n",
       "      <td>-23.1203</td>\n",
       "      <td>-134.9692</td>\n",
       "      <td>298.99</td>\n",
       "      <td>77.0</td>\n",
       "      <td>0.0</td>\n",
       "      <td>7.18</td>\n",
       "      <td>PF</td>\n",
       "      <td>1.611185e+09</td>\n",
       "    </tr>\n",
       "    <tr>\n",
       "      <th>2</th>\n",
       "      <td>Erenhot</td>\n",
       "      <td>43.6475</td>\n",
       "      <td>111.9767</td>\n",
       "      <td>261.09</td>\n",
       "      <td>87.0</td>\n",
       "      <td>99.0</td>\n",
       "      <td>3.28</td>\n",
       "      <td>CN</td>\n",
       "      <td>1.611185e+09</td>\n",
       "    </tr>\n",
       "    <tr>\n",
       "      <th>3</th>\n",
       "      <td>Avarua</td>\n",
       "      <td>-21.2078</td>\n",
       "      <td>-159.7750</td>\n",
       "      <td>302.15</td>\n",
       "      <td>79.0</td>\n",
       "      <td>20.0</td>\n",
       "      <td>5.14</td>\n",
       "      <td>CK</td>\n",
       "      <td>1.611185e+09</td>\n",
       "    </tr>\n",
       "    <tr>\n",
       "      <th>4</th>\n",
       "      <td>Punta Arenas</td>\n",
       "      <td>-53.1500</td>\n",
       "      <td>-70.9167</td>\n",
       "      <td>286.15</td>\n",
       "      <td>62.0</td>\n",
       "      <td>75.0</td>\n",
       "      <td>7.20</td>\n",
       "      <td>CL</td>\n",
       "      <td>1.611185e+09</td>\n",
       "    </tr>\n",
       "    <tr>\n",
       "      <th>5</th>\n",
       "      <td>Busselton</td>\n",
       "      <td>-33.6500</td>\n",
       "      <td>115.3333</td>\n",
       "      <td>292.59</td>\n",
       "      <td>82.0</td>\n",
       "      <td>4.0</td>\n",
       "      <td>1.34</td>\n",
       "      <td>AU</td>\n",
       "      <td>1.611185e+09</td>\n",
       "    </tr>\n",
       "    <tr>\n",
       "      <th>6</th>\n",
       "      <td>Katsuura</td>\n",
       "      <td>35.1333</td>\n",
       "      <td>140.3000</td>\n",
       "      <td>277.04</td>\n",
       "      <td>56.0</td>\n",
       "      <td>20.0</td>\n",
       "      <td>5.14</td>\n",
       "      <td>JP</td>\n",
       "      <td>1.611185e+09</td>\n",
       "    </tr>\n",
       "    <tr>\n",
       "      <th>7</th>\n",
       "      <td>Kavieng</td>\n",
       "      <td>-2.5744</td>\n",
       "      <td>150.7967</td>\n",
       "      <td>301.31</td>\n",
       "      <td>70.0</td>\n",
       "      <td>100.0</td>\n",
       "      <td>5.32</td>\n",
       "      <td>PG</td>\n",
       "      <td>1.611185e+09</td>\n",
       "    </tr>\n",
       "    <tr>\n",
       "      <th>8</th>\n",
       "      <td>NaN</td>\n",
       "      <td>NaN</td>\n",
       "      <td>NaN</td>\n",
       "      <td>NaN</td>\n",
       "      <td>NaN</td>\n",
       "      <td>NaN</td>\n",
       "      <td>NaN</td>\n",
       "      <td>NaN</td>\n",
       "      <td>NaN</td>\n",
       "    </tr>\n",
       "    <tr>\n",
       "      <th>9</th>\n",
       "      <td>Tasiilaq</td>\n",
       "      <td>65.6145</td>\n",
       "      <td>-37.6368</td>\n",
       "      <td>261.15</td>\n",
       "      <td>67.0</td>\n",
       "      <td>0.0</td>\n",
       "      <td>1.54</td>\n",
       "      <td>GL</td>\n",
       "      <td>1.611185e+09</td>\n",
       "    </tr>\n",
       "  </tbody>\n",
       "</table>\n",
       "</div>"
      ],
      "text/plain": [
       "               name  coord.lat  coord.lon  main.temp_max  main.humidity  \\\n",
       "0  Praia da Vitória    38.7333   -27.0667         289.82           82.0   \n",
       "1           Rikitea   -23.1203  -134.9692         298.99           77.0   \n",
       "2           Erenhot    43.6475   111.9767         261.09           87.0   \n",
       "3            Avarua   -21.2078  -159.7750         302.15           79.0   \n",
       "4      Punta Arenas   -53.1500   -70.9167         286.15           62.0   \n",
       "5         Busselton   -33.6500   115.3333         292.59           82.0   \n",
       "6          Katsuura    35.1333   140.3000         277.04           56.0   \n",
       "7           Kavieng    -2.5744   150.7967         301.31           70.0   \n",
       "8               NaN        NaN        NaN            NaN            NaN   \n",
       "9          Tasiilaq    65.6145   -37.6368         261.15           67.0   \n",
       "\n",
       "   clouds.all  wind.speed sys.country            dt  \n",
       "0        20.0        4.22          PT  1.611185e+09  \n",
       "1         0.0        7.18          PF  1.611185e+09  \n",
       "2        99.0        3.28          CN  1.611185e+09  \n",
       "3        20.0        5.14          CK  1.611185e+09  \n",
       "4        75.0        7.20          CL  1.611185e+09  \n",
       "5         4.0        1.34          AU  1.611185e+09  \n",
       "6        20.0        5.14          JP  1.611185e+09  \n",
       "7       100.0        5.32          PG  1.611185e+09  \n",
       "8         NaN         NaN         NaN           NaN  \n",
       "9         0.0        1.54          GL  1.611185e+09  "
      ]
     },
     "execution_count": 4,
     "metadata": {},
     "output_type": "execute_result"
    }
   ],
   "source": [
    "result[['name', 'coord.lat','coord.lon','main.temp_max','main.humidity','clouds.all','wind.speed','sys.country','dt']].head(10)"
   ]
  },
  {
   "cell_type": "code",
   "execution_count": 5,
   "metadata": {},
   "outputs": [],
   "source": [
    "df1= result[['coord.lat','coord.lon','main.temp_max','main.humidity','clouds.all','wind.speed']].quantile([.25, .5, .75])"
   ]
  },
  {
   "cell_type": "code",
   "execution_count": 6,
   "metadata": {},
   "outputs": [],
   "source": [
    "df2=result[['coord.lat','coord.lon','main.temp_max','main.humidity','clouds.all','wind.speed']].agg(['mean', 'count','std','min','max'])\n"
   ]
  },
  {
   "cell_type": "code",
   "execution_count": 7,
   "metadata": {},
   "outputs": [
    {
     "data": {
      "text/html": [
       "<div>\n",
       "<style scoped>\n",
       "    .dataframe tbody tr th:only-of-type {\n",
       "        vertical-align: middle;\n",
       "    }\n",
       "\n",
       "    .dataframe tbody tr th {\n",
       "        vertical-align: top;\n",
       "    }\n",
       "\n",
       "    .dataframe thead th {\n",
       "        text-align: right;\n",
       "    }\n",
       "</style>\n",
       "<table border=\"1\" class=\"dataframe\">\n",
       "  <thead>\n",
       "    <tr style=\"text-align: right;\">\n",
       "      <th></th>\n",
       "      <th>coord.lat</th>\n",
       "      <th>coord.lon</th>\n",
       "      <th>main.temp_max</th>\n",
       "      <th>main.humidity</th>\n",
       "      <th>clouds.all</th>\n",
       "      <th>wind.speed</th>\n",
       "    </tr>\n",
       "  </thead>\n",
       "  <tbody>\n",
       "    <tr>\n",
       "      <th>0.25</th>\n",
       "      <td>-11.09640</td>\n",
       "      <td>-54.014800</td>\n",
       "      <td>273.150000</td>\n",
       "      <td>66.000000</td>\n",
       "      <td>15.000000</td>\n",
       "      <td>1.670000</td>\n",
       "    </tr>\n",
       "    <tr>\n",
       "      <th>0.5</th>\n",
       "      <td>21.46120</td>\n",
       "      <td>24.731400</td>\n",
       "      <td>290.260000</td>\n",
       "      <td>80.000000</td>\n",
       "      <td>59.000000</td>\n",
       "      <td>3.090000</td>\n",
       "    </tr>\n",
       "    <tr>\n",
       "      <th>0.75</th>\n",
       "      <td>48.23250</td>\n",
       "      <td>106.916700</td>\n",
       "      <td>298.120000</td>\n",
       "      <td>88.000000</td>\n",
       "      <td>90.000000</td>\n",
       "      <td>5.040000</td>\n",
       "    </tr>\n",
       "    <tr>\n",
       "      <th>mean</th>\n",
       "      <td>18.51992</td>\n",
       "      <td>21.543743</td>\n",
       "      <td>283.216794</td>\n",
       "      <td>74.677596</td>\n",
       "      <td>52.520947</td>\n",
       "      <td>3.658871</td>\n",
       "    </tr>\n",
       "    <tr>\n",
       "      <th>count</th>\n",
       "      <td>549.00000</td>\n",
       "      <td>549.000000</td>\n",
       "      <td>549.000000</td>\n",
       "      <td>549.000000</td>\n",
       "      <td>549.000000</td>\n",
       "      <td>549.000000</td>\n",
       "    </tr>\n",
       "    <tr>\n",
       "      <th>std</th>\n",
       "      <td>34.50541</td>\n",
       "      <td>90.809360</td>\n",
       "      <td>18.351326</td>\n",
       "      <td>19.201388</td>\n",
       "      <td>38.544860</td>\n",
       "      <td>2.599791</td>\n",
       "    </tr>\n",
       "    <tr>\n",
       "      <th>min</th>\n",
       "      <td>-54.80000</td>\n",
       "      <td>-175.200000</td>\n",
       "      <td>223.450000</td>\n",
       "      <td>10.000000</td>\n",
       "      <td>0.000000</td>\n",
       "      <td>0.080000</td>\n",
       "    </tr>\n",
       "    <tr>\n",
       "      <th>max</th>\n",
       "      <td>78.21860</td>\n",
       "      <td>179.316700</td>\n",
       "      <td>311.150000</td>\n",
       "      <td>100.000000</td>\n",
       "      <td>100.000000</td>\n",
       "      <td>16.430000</td>\n",
       "    </tr>\n",
       "  </tbody>\n",
       "</table>\n",
       "</div>"
      ],
      "text/plain": [
       "       coord.lat   coord.lon  main.temp_max  main.humidity  clouds.all  \\\n",
       "0.25   -11.09640  -54.014800     273.150000      66.000000   15.000000   \n",
       "0.5     21.46120   24.731400     290.260000      80.000000   59.000000   \n",
       "0.75    48.23250  106.916700     298.120000      88.000000   90.000000   \n",
       "mean    18.51992   21.543743     283.216794      74.677596   52.520947   \n",
       "count  549.00000  549.000000     549.000000     549.000000  549.000000   \n",
       "std     34.50541   90.809360      18.351326      19.201388   38.544860   \n",
       "min    -54.80000 -175.200000     223.450000      10.000000    0.000000   \n",
       "max     78.21860  179.316700     311.150000     100.000000  100.000000   \n",
       "\n",
       "       wind.speed  \n",
       "0.25     1.670000  \n",
       "0.5      3.090000  \n",
       "0.75     5.040000  \n",
       "mean     3.658871  \n",
       "count  549.000000  \n",
       "std      2.599791  \n",
       "min      0.080000  \n",
       "max     16.430000  "
      ]
     },
     "execution_count": 7,
     "metadata": {},
     "output_type": "execute_result"
    }
   ],
   "source": [
    "pd.concat([df1, df2])"
   ]
  },
  {
   "cell_type": "markdown",
   "metadata": {},
   "source": [
    "## Inspect the data and remove the cities where the humidity > 100%.\n",
    "----\n",
    "Skip this step if there are no cities that have humidity > 100%. "
   ]
  },
  {
   "cell_type": "code",
   "execution_count": 8,
   "metadata": {},
   "outputs": [
    {
     "data": {
      "text/html": [
       "<div>\n",
       "<style scoped>\n",
       "    .dataframe tbody tr th:only-of-type {\n",
       "        vertical-align: middle;\n",
       "    }\n",
       "\n",
       "    .dataframe tbody tr th {\n",
       "        vertical-align: top;\n",
       "    }\n",
       "\n",
       "    .dataframe thead th {\n",
       "        text-align: right;\n",
       "    }\n",
       "</style>\n",
       "<table border=\"1\" class=\"dataframe\">\n",
       "  <thead>\n",
       "    <tr style=\"text-align: right;\">\n",
       "      <th></th>\n",
       "      <th>coord.lat</th>\n",
       "      <th>coord.lon</th>\n",
       "      <th>main.temp_max</th>\n",
       "      <th>main.humidity</th>\n",
       "      <th>clouds.all</th>\n",
       "      <th>wind.speed</th>\n",
       "    </tr>\n",
       "  </thead>\n",
       "  <tbody>\n",
       "    <tr>\n",
       "      <th>mean</th>\n",
       "      <td>18.692596</td>\n",
       "      <td>21.477940</td>\n",
       "      <td>283.043559</td>\n",
       "      <td>73.819209</td>\n",
       "      <td>52.421846</td>\n",
       "      <td>3.678475</td>\n",
       "    </tr>\n",
       "    <tr>\n",
       "      <th>count</th>\n",
       "      <td>531.000000</td>\n",
       "      <td>531.000000</td>\n",
       "      <td>531.000000</td>\n",
       "      <td>531.000000</td>\n",
       "      <td>531.000000</td>\n",
       "      <td>531.000000</td>\n",
       "    </tr>\n",
       "    <tr>\n",
       "      <th>std</th>\n",
       "      <td>34.691893</td>\n",
       "      <td>91.330639</td>\n",
       "      <td>18.577530</td>\n",
       "      <td>18.939359</td>\n",
       "      <td>38.780405</td>\n",
       "      <td>2.612675</td>\n",
       "    </tr>\n",
       "    <tr>\n",
       "      <th>min</th>\n",
       "      <td>-54.800000</td>\n",
       "      <td>-175.200000</td>\n",
       "      <td>223.450000</td>\n",
       "      <td>10.000000</td>\n",
       "      <td>0.000000</td>\n",
       "      <td>0.080000</td>\n",
       "    </tr>\n",
       "    <tr>\n",
       "      <th>max</th>\n",
       "      <td>78.218600</td>\n",
       "      <td>179.316700</td>\n",
       "      <td>311.150000</td>\n",
       "      <td>99.000000</td>\n",
       "      <td>100.000000</td>\n",
       "      <td>16.430000</td>\n",
       "    </tr>\n",
       "    <tr>\n",
       "      <th>0.25</th>\n",
       "      <td>-11.151250</td>\n",
       "      <td>-55.350650</td>\n",
       "      <td>272.150000</td>\n",
       "      <td>66.000000</td>\n",
       "      <td>13.000000</td>\n",
       "      <td>1.710000</td>\n",
       "    </tr>\n",
       "    <tr>\n",
       "      <th>0.5</th>\n",
       "      <td>21.461200</td>\n",
       "      <td>24.731400</td>\n",
       "      <td>290.260000</td>\n",
       "      <td>79.000000</td>\n",
       "      <td>59.000000</td>\n",
       "      <td>3.090000</td>\n",
       "    </tr>\n",
       "    <tr>\n",
       "      <th>0.75</th>\n",
       "      <td>48.693050</td>\n",
       "      <td>106.399200</td>\n",
       "      <td>298.150000</td>\n",
       "      <td>87.000000</td>\n",
       "      <td>90.000000</td>\n",
       "      <td>5.075000</td>\n",
       "    </tr>\n",
       "  </tbody>\n",
       "</table>\n",
       "</div>"
      ],
      "text/plain": [
       "        coord.lat   coord.lon  main.temp_max  main.humidity  clouds.all  \\\n",
       "mean    18.692596   21.477940     283.043559      73.819209   52.421846   \n",
       "count  531.000000  531.000000     531.000000     531.000000  531.000000   \n",
       "std     34.691893   91.330639      18.577530      18.939359   38.780405   \n",
       "min    -54.800000 -175.200000     223.450000      10.000000    0.000000   \n",
       "max     78.218600  179.316700     311.150000      99.000000  100.000000   \n",
       "0.25   -11.151250  -55.350650     272.150000      66.000000   13.000000   \n",
       "0.5     21.461200   24.731400     290.260000      79.000000   59.000000   \n",
       "0.75    48.693050  106.399200     298.150000      87.000000   90.000000   \n",
       "\n",
       "       wind.speed  \n",
       "mean     3.678475  \n",
       "count  531.000000  \n",
       "std      2.612675  \n",
       "min      0.080000  \n",
       "max     16.430000  \n",
       "0.25     1.710000  \n",
       "0.5      3.090000  \n",
       "0.75     5.075000  "
      ]
     },
     "execution_count": 8,
     "metadata": {},
     "output_type": "execute_result"
    }
   ],
   "source": [
    "df3=result[['coord.lat','coord.lon','main.temp_max','main.humidity','clouds.all','wind.speed']].loc[result['main.humidity'] < 100].quantile([.25, .5, .75])\n",
    "df4=result[['coord.lat','coord.lon','main.temp_max','main.humidity','clouds.all','wind.speed']].loc[result['main.humidity'] < 100].agg(['mean', 'count','std','min','max'])\n",
    "pd.concat([df4, df3])"
   ]
  },
  {
   "cell_type": "code",
   "execution_count": 9,
   "metadata": {},
   "outputs": [
    {
     "data": {
      "text/plain": [
       "Int64Index([ 27, 131, 188, 200, 202, 251, 260, 320, 354, 385, 390, 428, 429,\n",
       "            454, 490, 528, 534, 575],\n",
       "           dtype='int64')"
      ]
     },
     "execution_count": 9,
     "metadata": {},
     "output_type": "execute_result"
    }
   ],
   "source": [
    "#  Get the indices of cities that have humidity over 100%.\n",
    "result.loc[result['main.humidity'] >= 100].index\n",
    "Cities_100 = result.loc[result['main.humidity'] >= 100].index\n",
    "Cities_100"
   ]
  },
  {
   "cell_type": "code",
   "execution_count": 10,
   "metadata": {},
   "outputs": [
    {
     "data": {
      "text/html": [
       "<div>\n",
       "<style scoped>\n",
       "    .dataframe tbody tr th:only-of-type {\n",
       "        vertical-align: middle;\n",
       "    }\n",
       "\n",
       "    .dataframe tbody tr th {\n",
       "        vertical-align: top;\n",
       "    }\n",
       "\n",
       "    .dataframe thead th {\n",
       "        text-align: right;\n",
       "    }\n",
       "</style>\n",
       "<table border=\"1\" class=\"dataframe\">\n",
       "  <thead>\n",
       "    <tr style=\"text-align: right;\">\n",
       "      <th></th>\n",
       "      <th>name</th>\n",
       "      <th>coord.lat</th>\n",
       "      <th>coord.lon</th>\n",
       "      <th>main.temp_max</th>\n",
       "      <th>main.humidity</th>\n",
       "      <th>clouds.all</th>\n",
       "      <th>wind.speed</th>\n",
       "      <th>sys.country</th>\n",
       "      <th>dt</th>\n",
       "    </tr>\n",
       "  </thead>\n",
       "  <tbody>\n",
       "    <tr>\n",
       "      <th>0</th>\n",
       "      <td>Praia da Vitória</td>\n",
       "      <td>38.7333</td>\n",
       "      <td>-27.0667</td>\n",
       "      <td>289.82</td>\n",
       "      <td>82.0</td>\n",
       "      <td>20.0</td>\n",
       "      <td>4.22</td>\n",
       "      <td>PT</td>\n",
       "      <td>1.611185e+09</td>\n",
       "    </tr>\n",
       "    <tr>\n",
       "      <th>1</th>\n",
       "      <td>Rikitea</td>\n",
       "      <td>-23.1203</td>\n",
       "      <td>-134.9692</td>\n",
       "      <td>298.99</td>\n",
       "      <td>77.0</td>\n",
       "      <td>0.0</td>\n",
       "      <td>7.18</td>\n",
       "      <td>PF</td>\n",
       "      <td>1.611185e+09</td>\n",
       "    </tr>\n",
       "    <tr>\n",
       "      <th>2</th>\n",
       "      <td>Erenhot</td>\n",
       "      <td>43.6475</td>\n",
       "      <td>111.9767</td>\n",
       "      <td>261.09</td>\n",
       "      <td>87.0</td>\n",
       "      <td>99.0</td>\n",
       "      <td>3.28</td>\n",
       "      <td>CN</td>\n",
       "      <td>1.611185e+09</td>\n",
       "    </tr>\n",
       "    <tr>\n",
       "      <th>3</th>\n",
       "      <td>Avarua</td>\n",
       "      <td>-21.2078</td>\n",
       "      <td>-159.7750</td>\n",
       "      <td>302.15</td>\n",
       "      <td>79.0</td>\n",
       "      <td>20.0</td>\n",
       "      <td>5.14</td>\n",
       "      <td>CK</td>\n",
       "      <td>1.611185e+09</td>\n",
       "    </tr>\n",
       "    <tr>\n",
       "      <th>4</th>\n",
       "      <td>Punta Arenas</td>\n",
       "      <td>-53.1500</td>\n",
       "      <td>-70.9167</td>\n",
       "      <td>286.15</td>\n",
       "      <td>62.0</td>\n",
       "      <td>75.0</td>\n",
       "      <td>7.20</td>\n",
       "      <td>CL</td>\n",
       "      <td>1.611185e+09</td>\n",
       "    </tr>\n",
       "    <tr>\n",
       "      <th>5</th>\n",
       "      <td>Busselton</td>\n",
       "      <td>-33.6500</td>\n",
       "      <td>115.3333</td>\n",
       "      <td>292.59</td>\n",
       "      <td>82.0</td>\n",
       "      <td>4.0</td>\n",
       "      <td>1.34</td>\n",
       "      <td>AU</td>\n",
       "      <td>1.611185e+09</td>\n",
       "    </tr>\n",
       "    <tr>\n",
       "      <th>6</th>\n",
       "      <td>Katsuura</td>\n",
       "      <td>35.1333</td>\n",
       "      <td>140.3000</td>\n",
       "      <td>277.04</td>\n",
       "      <td>56.0</td>\n",
       "      <td>20.0</td>\n",
       "      <td>5.14</td>\n",
       "      <td>JP</td>\n",
       "      <td>1.611185e+09</td>\n",
       "    </tr>\n",
       "    <tr>\n",
       "      <th>7</th>\n",
       "      <td>Kavieng</td>\n",
       "      <td>-2.5744</td>\n",
       "      <td>150.7967</td>\n",
       "      <td>301.31</td>\n",
       "      <td>70.0</td>\n",
       "      <td>100.0</td>\n",
       "      <td>5.32</td>\n",
       "      <td>PG</td>\n",
       "      <td>1.611185e+09</td>\n",
       "    </tr>\n",
       "    <tr>\n",
       "      <th>8</th>\n",
       "      <td>NaN</td>\n",
       "      <td>NaN</td>\n",
       "      <td>NaN</td>\n",
       "      <td>NaN</td>\n",
       "      <td>NaN</td>\n",
       "      <td>NaN</td>\n",
       "      <td>NaN</td>\n",
       "      <td>NaN</td>\n",
       "      <td>NaN</td>\n",
       "    </tr>\n",
       "    <tr>\n",
       "      <th>9</th>\n",
       "      <td>Tasiilaq</td>\n",
       "      <td>65.6145</td>\n",
       "      <td>-37.6368</td>\n",
       "      <td>261.15</td>\n",
       "      <td>67.0</td>\n",
       "      <td>0.0</td>\n",
       "      <td>1.54</td>\n",
       "      <td>GL</td>\n",
       "      <td>1.611185e+09</td>\n",
       "    </tr>\n",
       "  </tbody>\n",
       "</table>\n",
       "</div>"
      ],
      "text/plain": [
       "               name  coord.lat  coord.lon  main.temp_max  main.humidity  \\\n",
       "0  Praia da Vitória    38.7333   -27.0667         289.82           82.0   \n",
       "1           Rikitea   -23.1203  -134.9692         298.99           77.0   \n",
       "2           Erenhot    43.6475   111.9767         261.09           87.0   \n",
       "3            Avarua   -21.2078  -159.7750         302.15           79.0   \n",
       "4      Punta Arenas   -53.1500   -70.9167         286.15           62.0   \n",
       "5         Busselton   -33.6500   115.3333         292.59           82.0   \n",
       "6          Katsuura    35.1333   140.3000         277.04           56.0   \n",
       "7           Kavieng    -2.5744   150.7967         301.31           70.0   \n",
       "8               NaN        NaN        NaN            NaN            NaN   \n",
       "9          Tasiilaq    65.6145   -37.6368         261.15           67.0   \n",
       "\n",
       "   clouds.all  wind.speed sys.country            dt  \n",
       "0        20.0        4.22          PT  1.611185e+09  \n",
       "1         0.0        7.18          PF  1.611185e+09  \n",
       "2        99.0        3.28          CN  1.611185e+09  \n",
       "3        20.0        5.14          CK  1.611185e+09  \n",
       "4        75.0        7.20          CL  1.611185e+09  \n",
       "5         4.0        1.34          AU  1.611185e+09  \n",
       "6        20.0        5.14          JP  1.611185e+09  \n",
       "7       100.0        5.32          PG  1.611185e+09  \n",
       "8         NaN         NaN         NaN           NaN  \n",
       "9         0.0        1.54          GL  1.611185e+09  "
      ]
     },
     "execution_count": 10,
     "metadata": {},
     "output_type": "execute_result"
    }
   ],
   "source": [
    "# Make a new DataFrame equal to the city data to drop all humidity outliers by index.\n",
    "# Passing \"inplace=False\" will make a copy of the city_data DataFrame, which we call \"clean_city_data\".\n",
    "result_clean = result.drop(Cities_100, inplace=False)\n",
    "final_clean_results = result_clean[['name', 'coord.lat','coord.lon','main.temp_max','main.humidity','clouds.all','wind.speed','sys.country','dt']]\n",
    "final_clean_results.head(10)"
   ]
  },
  {
   "cell_type": "markdown",
   "metadata": {},
   "source": [
    "## Plotting the Data\n",
    "* Use proper labeling of the plots using plot titles (including date of analysis) and axes labels.\n",
    "* Save the plotted figures as .pngs."
   ]
  },
  {
   "cell_type": "markdown",
   "metadata": {},
   "source": [
    "## Latitude vs. Temperature Plot"
   ]
  },
  {
   "cell_type": "code",
   "execution_count": 12,
   "metadata": {},
   "outputs": [
    {
     "data": {
      "text/plain": [
       "0      38.7333\n",
       "1     -23.1203\n",
       "2      43.6475\n",
       "3     -21.2078\n",
       "4     -53.1500\n",
       "        ...   \n",
       "592    42.9633\n",
       "593     7.1371\n",
       "594    21.0917\n",
       "595   -41.4122\n",
       "596   -45.4167\n",
       "Name: coord.lat, Length: 579, dtype: float64"
      ]
     },
     "execution_count": 12,
     "metadata": {},
     "output_type": "execute_result"
    }
   ],
   "source": [
    "final_clean_results['coord.lat']\n"
   ]
  },
  {
   "cell_type": "code",
   "execution_count": 15,
   "metadata": {},
   "outputs": [
    {
     "data": {
      "image/png": "[encoded data removed]",
      "text/plain": [
       "<Figure size 432x288 with 1 Axes>"
      ]
     },
     "metadata": {
      "needs_background": "light"
     },
     "output_type": "display_data"
    }
   ],
   "source": [
    "plt.scatter(final_clean_results['coord.lat'],\n",
    "            final_clean_results['main.temp_max'])\n",
    "plt.grid(True)"
   ]
  },
  {
   "cell_type": "markdown",
   "metadata": {},
   "source": [
    "## Latitude vs. Humidity Plot"
   ]
  },
  {
   "cell_type": "code",
   "execution_count": 16,
   "metadata": {},
   "outputs": [
    {
     "data": {
      "image/png": "[encoded data removed]",
      "text/plain": [
       "<Figure size 432x288 with 1 Axes>"
      ]
     },
     "metadata": {
      "needs_background": "light"
     },
     "output_type": "display_data"
    }
   ],
   "source": [
    "plt.scatter(final_clean_results['coord.lat'],\n",
    "            final_clean_results['main.humidity'])\n",
    "plt.grid(True)"
   ]
  },
  {
   "cell_type": "markdown",
   "metadata": {},
   "source": [
    "## Latitude vs. Cloudiness Plot"
   ]
  },
  {
   "cell_type": "code",
   "execution_count": 17,
   "metadata": {},
   "outputs": [
    {
     "data": {
      "image/png": "[encoded data removed]",
      "text/plain": [
       "<Figure size 432x288 with 1 Axes>"
      ]
     },
     "metadata": {
      "needs_background": "light"
     },
     "output_type": "display_data"
    }
   ],
   "source": [
    "plt.scatter(final_clean_results['coord.lat'],\n",
    "            final_clean_results['clouds.all'])\n",
    "plt.grid(True)"
   ]
  },
  {
   "cell_type": "markdown",
   "metadata": {},
   "source": [
    "## Latitude vs. Wind Speed Plot"
   ]
  },
  {
   "cell_type": "code",
   "execution_count": 18,
   "metadata": {},
   "outputs": [
    {
     "data": {
      "image/png": "[encoded data removed]",
      "text/plain": [
       "<Figure size 432x288 with 1 Axes>"
      ]
     },
     "metadata": {
      "needs_background": "light"
     },
     "output_type": "display_data"
    }
   ],
   "source": [
    "plt.scatter(final_clean_results['coord.lat'],\n",
    "            final_clean_results['wind.speed'])\n",
    "plt.grid(True)"
   ]
  },
  {
   "cell_type": "markdown",
   "metadata": {},
   "source": [
    "## Linear Regression"
   ]
  },
  {
   "cell_type": "code",
   "execution_count": 32,
   "metadata": {},
   "outputs": [],
   "source": [
    "def plot_regression_line(x, y): \n",
    "    (slope, intercept, rvalue, pvalue, stderr) = linregress(x, y)\n",
    "    line = \"y = \" + str(slope) + \"x + \" + str(intercept)\n",
    "    regress = x * slope + intercept\n",
    "    plt.scatter(x, y) \n",
    "    plt.plot(x,regress)\n",
    "    plt.annotate(line,(0,50))\n",
    "    print(f\"R Value: {rvalue**2}\")\n",
    "    plt.show() "
   ]
  },
  {
   "cell_type": "code",
   "execution_count": 20,
   "metadata": {},
   "outputs": [],
   "source": [
    "north = final_clean_results.loc[(final_clean_results[\"coord.lat\"] >= 0)]\n",
    "south = final_clean_results.loc[(final_clean_results[\"coord.lat\"] < 0)]"
   ]
  },
  {
   "cell_type": "markdown",
   "metadata": {},
   "source": [
    "####  Northern Hemisphere - Max Temp vs. Latitude Linear Regression"
   ]
  },
  {
   "cell_type": "code",
   "execution_count": 34,
   "metadata": {},
   "outputs": [
    {
     "name": "stdout",
     "output_type": "stream",
     "text": [
      "R Value: 0.7070247063529965\n"
     ]
    },
    {
     "data": {
      "image/png": "[encoded data removed]",
      "text/plain": [
       "<Figure size 432x288 with 1 Axes>"
      ]
     },
     "metadata": {
      "needs_background": "light"
     },
     "output_type": "display_data"
    }
   ],
   "source": [
    "\n",
    "x = north[\"coord.lat\"]\n",
    "y = north[\"main.temp_max\"]\n",
    "\n",
    "plot_regression_line(x, y)"
   ]
  },
  {
   "cell_type": "markdown",
   "metadata": {},
   "source": [
    "####  Southern Hemisphere - Max Temp vs. Latitude Linear Regression"
   ]
  },
  {
   "cell_type": "code",
   "execution_count": 35,
   "metadata": {},
   "outputs": [
    {
     "name": "stdout",
     "output_type": "stream",
     "text": [
      "R Value: 0.2392413877136306\n"
     ]
    },
    {
     "data": {
      "image/png": "[encoded data removed]",
      "text/plain": [
       "<Figure size 432x288 with 1 Axes>"
      ]
     },
     "metadata": {
      "needs_background": "light"
     },
     "output_type": "display_data"
    }
   ],
   "source": [
    "\n",
    "x = south[\"coord.lat\"]\n",
    "y = south[\"main.temp_max\"]\n",
    "\n",
    "plot_regression_line(x, y)"
   ]
  },
  {
   "cell_type": "markdown",
   "metadata": {},
   "source": [
    "####  Northern Hemisphere - Humidity (%) vs. Latitude Linear Regression"
   ]
  },
  {
   "cell_type": "code",
   "execution_count": 36,
   "metadata": {},
   "outputs": [
    {
     "name": "stdout",
     "output_type": "stream",
     "text": [
      "R Value: 0.05688285606175833\n"
     ]
    },
    {
     "data": {
      "image/png": "[encoded data removed]",
      "text/plain": [
       "<Figure size 432x288 with 1 Axes>"
      ]
     },
     "metadata": {
      "needs_background": "light"
     },
     "output_type": "display_data"
    }
   ],
   "source": [
    "\n",
    "x = north[\"coord.lat\"]\n",
    "y = north[\"main.humidity\"]\n",
    "\n",
    "plot_regression_line(x, y)"
   ]
  },
  {
   "cell_type": "markdown",
   "metadata": {},
   "source": [
    "####  Southern Hemisphere - Humidity (%) vs. Latitude Linear Regression"
   ]
  },
  {
   "cell_type": "code",
   "execution_count": 28,
   "metadata": {},
   "outputs": [
    {
     "name": "stdout",
     "output_type": "stream",
     "text": [
      "The r-value is: 0.014985174297345524\n"
     ]
    },
    {
     "data": {
      "image/png": "[encoded data removed]",
      "text/plain": [
       "<Figure size 432x288 with 1 Axes>"
      ]
     },
     "metadata": {
      "needs_background": "light"
     },
     "output_type": "display_data"
    }
   ],
   "source": [
    "\n",
    "x = south[\"coord.lat\"]\n",
    "y = south[\"main.humidity\"]\n",
    "\n",
    "plot_regression_line(x, y)"
   ]
  },
  {
   "cell_type": "markdown",
   "metadata": {},
   "source": [
    "####  Northern Hemisphere - Cloudiness (%) vs. Latitude Linear Regression"
   ]
  },
  {
   "cell_type": "code",
   "execution_count": 37,
   "metadata": {},
   "outputs": [
    {
     "name": "stdout",
     "output_type": "stream",
     "text": [
      "R Value: 0.13130101776876318\n"
     ]
    },
    {
     "data": {
      "image/png": "[encoded data removed]",
      "text/plain": [
       "<Figure size 432x288 with 1 Axes>"
      ]
     },
     "metadata": {
      "needs_background": "light"
     },
     "output_type": "display_data"
    }
   ],
   "source": [
    "\n",
    "x = north[\"coord.lat\"]\n",
    "y = north[\"clouds.all\"]\n",
    "\n",
    "plot_regression_line(x, y)"
   ]
  },
  {
   "cell_type": "markdown",
   "metadata": {},
   "source": [
    "####  Southern Hemisphere - Cloudiness (%) vs. Latitude Linear Regression"
   ]
  },
  {
   "cell_type": "code",
   "execution_count": 38,
   "metadata": {},
   "outputs": [
    {
     "name": "stdout",
     "output_type": "stream",
     "text": [
      "R Value: 0.07212508767789086\n"
     ]
    },
    {
     "data": {
      "image/png": "[encoded data removed]",
      "text/plain": [
       "<Figure size 432x288 with 1 Axes>"
      ]
     },
     "metadata": {
      "needs_background": "light"
     },
     "output_type": "display_data"
    }
   ],
   "source": [
    "\n",
    "x = south[\"coord.lat\"]\n",
    "y = south[\"clouds.all\"]\n",
    "\n",
    "plot_regression_line(x, y)"
   ]
  },
  {
   "cell_type": "markdown",
   "metadata": {},
   "source": [
    "####  Northern Hemisphere - Wind Speed (mph) vs. Latitude Linear Regression"
   ]
  },
  {
   "cell_type": "code",
   "execution_count": 39,
   "metadata": {},
   "outputs": [
    {
     "name": "stdout",
     "output_type": "stream",
     "text": [
      "R Value: 0.011863915047382519\n"
     ]
    },
    {
     "data": {
      "image/png": "[encoded data removed]",
      "text/plain": [
       "<Figure size 432x288 with 1 Axes>"
      ]
     },
     "metadata": {
      "needs_background": "light"
     },
     "output_type": "display_data"
    }
   ],
   "source": [
    "\n",
    "x = north[\"coord.lat\"]\n",
    "y = north[\"wind.speed\"]\n",
    "\n",
    "plot_regression_line(x, y)"
   ]
  },
  {
   "cell_type": "markdown",
   "metadata": {},
   "source": [
    "####  Southern Hemisphere - Wind Speed (mph) vs. Latitude Linear Regression"
   ]
  },
  {
   "cell_type": "code",
   "execution_count": 40,
   "metadata": {},
   "outputs": [
    {
     "name": "stdout",
     "output_type": "stream",
     "text": [
      "R Value: 0.11729596516887698\n"
     ]
    },
    {
     "data": {
      "image/png": "[encoded data removed]",
      "text/plain": [
       "<Figure size 432x288 with 1 Axes>"
      ]
     },
     "metadata": {
      "needs_background": "light"
     },
     "output_type": "display_data"
    }
   ],
   "source": [
    "\n",
    "x = south[\"coord.lat\"]\n",
    "y = south[\"wind.speed\"]\n",
    "\n",
    "plot_regression_line(x, y)"
   ]
  }
 ],
 "metadata": {
  "anaconda-cloud": {},
  "kernel_info": {
   "name": "python3"
  },
  "kernelspec": {
   "display_name": "Python 3",
   "language": "python",
   "name": "python3"
  },
  "language_info": {
   "codemirror_mode": {
    "name": "ipython",
    "version": 3
   },
   "file_extension": ".py",
   "mimetype": "text/x-python",
   "name": "python",
   "nbconvert_exporter": "python",
   "pygments_lexer": "ipython3",
   "version": "3.9.1"
  },
  "latex_envs": {
   "LaTeX_envs_menu_present": true,
   "autoclose": false,
   "autocomplete": true,
   "bibliofile": "biblio.bib",
   "cite_by": "apalike",
   "current_citInitial": 1,
   "eqLabelWithNumbers": true,
   "eqNumInitial": 1,
   "hotkeys": {
    "equation": "Ctrl-E",
    "itemize": "Ctrl-I"
   },
   "labels_anchors": false,
   "latex_user_defs": false,
   "report_style_numbering": false,
   "user_envs_cfg": false
  },
  "nteract": {
   "version": "0.12.3"
  }
 },
 "nbformat": 4,
 "nbformat_minor": 2
}
